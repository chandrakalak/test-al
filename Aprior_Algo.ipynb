{
 "cells": [
  {
   "cell_type": "code",
   "execution_count": null,
   "id": "8524d612",
   "metadata": {},
   "outputs": [],
   "source": [
    "#pip install mlxtend"
   ]
  },
  {
   "cell_type": "code",
   "execution_count": 1,
   "id": "01f64aa3",
   "metadata": {},
   "outputs": [],
   "source": [
    "import pandas as pd\n",
    "from mlxtend.preprocessing import TransactionEncoder\n",
    "from mlxtend.frequent_patterns import apriori,association_rules"
   ]
  },
  {
   "cell_type": "code",
   "execution_count": 2,
   "id": "24706f9f",
   "metadata": {},
   "outputs": [],
   "source": [
    "df=pd.read_csv(\"C:/Users/chandra.kallimath/Documents/Analytics/Top F &B Items/Aprior/Non_7_star_Aprior.csv\")"
   ]
  },
  {
   "cell_type": "code",
   "execution_count": 3,
   "id": "00884e3a",
   "metadata": {},
   "outputs": [
    {
     "data": {
      "text/html": [
       "<div>\n",
       "<style scoped>\n",
       "    .dataframe tbody tr th:only-of-type {\n",
       "        vertical-align: middle;\n",
       "    }\n",
       "\n",
       "    .dataframe tbody tr th {\n",
       "        vertical-align: top;\n",
       "    }\n",
       "\n",
       "    .dataframe thead th {\n",
       "        text-align: right;\n",
       "    }\n",
       "</style>\n",
       "<table border=\"1\" class=\"dataframe\">\n",
       "  <thead>\n",
       "    <tr style=\"text-align: right;\">\n",
       "      <th></th>\n",
       "      <th>Unique_id</th>\n",
       "      <th>New_Item_Description</th>\n",
       "    </tr>\n",
       "  </thead>\n",
       "  <tbody>\n",
       "    <tr>\n",
       "      <th>0</th>\n",
       "      <td>GDMO_2577565</td>\n",
       "      <td>Redbull energy drink</td>\n",
       "    </tr>\n",
       "    <tr>\n",
       "      <th>1</th>\n",
       "      <td>GDMO_2577567</td>\n",
       "      <td>SPRITE CAN</td>\n",
       "    </tr>\n",
       "    <tr>\n",
       "      <th>2</th>\n",
       "      <td>GDMO_2577937</td>\n",
       "      <td>Arwa water 500 ml</td>\n",
       "    </tr>\n",
       "    <tr>\n",
       "      <th>3</th>\n",
       "      <td>GDMO_2577937</td>\n",
       "      <td>Fresh Lemonade Juice</td>\n",
       "    </tr>\n",
       "    <tr>\n",
       "      <th>4</th>\n",
       "      <td>GDMO_2577937</td>\n",
       "      <td>GRAND NACHOS</td>\n",
       "    </tr>\n",
       "  </tbody>\n",
       "</table>\n",
       "</div>"
      ],
      "text/plain": [
       "      Unique_id  New_Item_Description\n",
       "0  GDMO_2577565  Redbull energy drink\n",
       "1  GDMO_2577567            SPRITE CAN\n",
       "2  GDMO_2577937     Arwa water 500 ml\n",
       "3  GDMO_2577937  Fresh Lemonade Juice\n",
       "4  GDMO_2577937          GRAND NACHOS"
      ]
     },
     "execution_count": 3,
     "metadata": {},
     "output_type": "execute_result"
    }
   ],
   "source": [
    "df.head()"
   ]
  },
  {
   "cell_type": "code",
   "execution_count": 4,
   "id": "9dbefa42",
   "metadata": {},
   "outputs": [
    {
     "name": "stdout",
     "output_type": "stream",
     "text": [
      "<class 'pandas.core.frame.DataFrame'>\n",
      "RangeIndex: 467458 entries, 0 to 467457\n",
      "Data columns (total 2 columns):\n",
      " #   Column                Non-Null Count   Dtype \n",
      "---  ------                --------------   ----- \n",
      " 0   Unique_id             467458 non-null  object\n",
      " 1   New_Item_Description  467458 non-null  object\n",
      "dtypes: object(2)\n",
      "memory usage: 7.1+ MB\n"
     ]
    }
   ],
   "source": [
    "df.info()"
   ]
  },
  {
   "cell_type": "code",
   "execution_count": 5,
   "id": "f43db40a",
   "metadata": {},
   "outputs": [],
   "source": [
    "## group the transcations \n",
    "transactions=df.groupby('Unique_id')['New_Item_Description'].apply(list)"
   ]
  },
  {
   "cell_type": "code",
   "execution_count": 6,
   "id": "499422b1",
   "metadata": {},
   "outputs": [
    {
     "data": {
      "text/plain": [
       "Unique_id\n",
       "GDMO_2577565                               [Redbull energy drink]\n",
       "GDMO_2577567                                         [SPRITE CAN]\n",
       "GDMO_2577937    [Arwa water 500 ml, Fresh Lemonade Juice, GRAN...\n",
       "GDMO_2577989                              [MIX CRML POPCORN KIDS]\n",
       "GDMO_2578045                                  [Arwa water 500 ml]\n",
       "Name: New_Item_Description, dtype: object"
      ]
     },
     "execution_count": 6,
     "metadata": {},
     "output_type": "execute_result"
    }
   ],
   "source": [
    "transactions.head()"
   ]
  },
  {
   "cell_type": "code",
   "execution_count": null,
   "id": "149e94b9",
   "metadata": {},
   "outputs": [],
   "source": [
    "# One-hot encode the transactions\n",
    "te = TransactionEncoder()\n",
    "te_ary = te.fit(transactions).transform(transactions)\n",
    "df_onehot = pd.DataFrame(te_ary, columns=te.columns_)"
   ]
  },
  {
   "cell_type": "code",
   "execution_count": null,
   "id": "29423800",
   "metadata": {},
   "outputs": [],
   "source": [
    "# Applying the Apriori algorithm to find frequent itemsets\n",
    "frequent_itemsets = apriori(df_onehot, min_support=0.01, use_colnames=True)"
   ]
  },
  {
   "cell_type": "code",
   "execution_count": null,
   "id": "fee08bbf",
   "metadata": {},
   "outputs": [],
   "source": [
    "# Generating association rules\n",
    "rules = association_rules(frequent_itemsets, metric=\"confidence\", min_threshold=0.5)"
   ]
  },
  {
   "cell_type": "code",
   "execution_count": null,
   "id": "b5894d28",
   "metadata": {},
   "outputs": [],
   "source": [
    "# Display frequent itemsets and rules\n",
    "print(frequent_itemsets)\n",
    "print(rules[['antecedents', 'consequents', 'support', 'confidence', 'lift']])"
   ]
  },
  {
   "cell_type": "code",
   "execution_count": null,
   "id": "2fbc19fe",
   "metadata": {},
   "outputs": [],
   "source": [
    "print(frequent_itemsets)"
   ]
  },
  {
   "cell_type": "code",
   "execution_count": null,
   "id": "f62e9f13",
   "metadata": {},
   "outputs": [],
   "source": []
  }
 ],
 "metadata": {
  "kernelspec": {
   "display_name": "Python 3 (ipykernel)",
   "language": "python",
   "name": "python3"
  },
  "language_info": {
   "codemirror_mode": {
    "name": "ipython",
    "version": 3
   },
   "file_extension": ".py",
   "mimetype": "text/x-python",
   "name": "python",
   "nbconvert_exporter": "python",
   "pygments_lexer": "ipython3",
   "version": "3.11.4"
  }
 },
 "nbformat": 4,
 "nbformat_minor": 5
}
